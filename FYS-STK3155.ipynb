{
 "cells": [
  {
   "cell_type": "code",
   "execution_count": 2,
   "metadata": {},
   "outputs": [],
   "source": [
    "from mpl_toolkits.mplot3d import Axes3D\n",
    "import matplotlib.pyplot as plt\n",
    "from matplotlib import cm\n",
    "from matplotlib.ticker import LinearLocator, FormatStrFormatter\n",
    "import numpy as np\n",
    "from random import random, seed \n",
    "from numba import jit\n",
    "\n",
    "import scipy.linalg\n",
    "from sklearn import linear_model\n",
    "import sklearn.linear_model as skl\n",
    "from sklearn.pipeline import make_pipeline\n",
    "from sklearn.preprocessing import PolynomialFeatures\n",
    "from sklearn.linear_model import LinearRegression, Ridge, Lasso\n",
    "from sklearn.metrics import mean_squared_error, r2_score, mean_squared_log_error, mean_absolute_error\n",
    "from sklearn.model_selection import train_test_split\n",
    "from sklearn.preprocessing import StandardScaler\n",
    "from sklearn.utils import resample"
   ]
  },
  {
   "cell_type": "code",
   "execution_count": 3,
   "metadata": {},
   "outputs": [],
   "source": [
    "# Define the Franke Fumction\n",
    "def frankeFunction(x1,x2,sig2):\n",
    "    noise = np.random.normal(0,sig2,x1.shape)\n",
    "    term1 = 0.75*np.exp(-(0.25*(9*x1-2)**2) - 0.25*((9*x2-2)**2))\n",
    "    term2 = 0.75*np.exp(-((9*x1+1)**2)/49.0 - 0.1*(9*x2+1))\n",
    "    term3 = 0.5*np.exp(-(9*x1-7)**2/4.0 - 0.25*((9*x2-3)**2))\n",
    "    term4 = -0.2*np.exp(-(9*x1-4)**2 - (9*x2-7)**2)\n",
    "    return term1 + term2 + term3 + term4 + noise\n",
    "\n",
    "# Create the data points in mesh grid form\n",
    "def createDataPoints(n, sig2):\n",
    "    x1 = np.arange(0, 1, 1/n)\n",
    "    x2 = np.arange(0, 1, 1/n)\n",
    "#     x1 = np.sort(np.random.uniform(0, 5, n))\n",
    "#     x2 = np.sort(np.random.uniform(0, 5, n))\n",
    "    x1_d, x2_d = np.meshgrid(x1,x2)\n",
    "    y_d = frankeFunction(x1_d,x2_d,sig2)\n",
    "    return x1_d, x2_d, y_d.ravel()\n",
    "\n",
    "# Create the design matrix with all possible combinations\n",
    "@jit\n",
    "def createDesignMatrix(x1, x2, n):\n",
    "    if len(x1.shape) > 1:\n",
    "        x1 = np.ravel(x1)\n",
    "        x2 = np.ravel(x2)\n",
    "\n",
    "    N = len(x1)\n",
    "    p = int((n+1)*(n+2)/2)\n",
    "    X = np.ones((N,p))\n",
    "\n",
    "    for i in range(1, n+1):\n",
    "        q = int(i*(i+1)/2)\n",
    "        for j in range(i+1):\n",
    "            X[:,q+j] = (x1**(i-j))*(x2**j)\n",
    "    return X\n",
    "\n",
    "# Predict the outcome using matrix inversion\n",
    "def predict(X, y_data):\n",
    "    beta = np.linalg.inv(X.T.dot(X)).dot(X.T).dot(y_data)\n",
    "    y_tilde = X @ beta\n",
    "    return y_tilde, beta\n",
    "\n",
    "# Calculate the mean square error (MSE)\n",
    "def MSE(y_data, y_model):\n",
    "    n = np.size(y_model)\n",
    "    return np.sum((y_data-y_model)**2)/n\n",
    "\n",
    "# Calculate the coefficient of determination (R2)\n",
    "def R2(y_data, y_model):\n",
    "    n = np.size(y_data)\n",
    "    return 1 - np.sum((y_data-y_model)**2)/np.sum((y_data-(np.sum(y_data)/n))**2)\n",
    "\n",
    "#Scale the data and split them for training and testing\n",
    "def Scale(X_train, X_test):\n",
    "    XX = np.copy(X_test)\n",
    "    if X_train.shape[1] > 1:\n",
    "        scaler = StandardScaler()\n",
    "        scaler.fit(X_train[:,1:])\n",
    "        X_train[:,1:] = scaler.transform(X_train[:,1:])\n",
    "        XX[:,1:] = scaler.transform(XX[:,1:])  \n",
    "    return X_train, XX#, y_train[:, np.newaxis], y_test[:, np.newaxis]\n",
    "\n",
    "# Calculate the confidence interval of parameters Beta's\n",
    "def CIBeta(X, Beta):\n",
    "    varBeta = np.diagonal(np.linalg.pinv(X.T @ X)*sig2)\n",
    "#     print(((X.T @ X)))\n",
    "    print(varBeta.shape)\n",
    "    print(Beta.shape)\n",
    "    stdBeta = np.sqrt(varBeta)\n",
    "    errorBeta = 1.645*stdBeta\n",
    "    return errorBeta\n",
    "\n",
    "# I cannot get this function to work with X_train\n",
    "def SVDinv(A):\n",
    "    U, s, VT = np.linalg.svd(A)\n",
    "    print(A.shape)\n",
    "    print(U.shape)\n",
    "    print(s.shape)\n",
    "    print(VT.shape)\n",
    "    S = np.diag(s)\n",
    "    UT = np.transpose(U)\n",
    "    V = np.transpose(VT)\n",
    "    invS = np.linalg.inv(S)\n",
    "    #print(np.matmul(V,np.matmul(invD,UT)).shape)\n",
    "    return np.matmul(V,np.matmul(invS,UT))\n",
    "\n",
    "def kfoldCV(x,y,z,k=5):\n",
    "    # The general procedure is as follows:\n",
    "    # 1. Shuffle the dataset randomly.\n",
    "    # 2. Split the dataset into k groups\n",
    "    # 3. For each unique group:\n",
    "    #    1. Take the group as a hold out or test data set\n",
    "    #    2. Take the remaining groups as a training data set\n",
    "    #    3. Fit a model on the training set and evaluate it on the test set\n",
    "    #    4. Retain the evaluation score and discard the model\n",
    "    # 4. Summarize the skill of the model using the sample of model evaluation scores\n",
    "    \n",
    "    #Concatenate the data points\n",
    "    #data = np.concatenate((x,y),axis=0)\n",
    "    \n",
    "    #HOW TO COMBINE X AND Y IN THE RIGHT FORMAT?\n",
    "    #First, split data into test and training set\n",
    "    x_train, x_test, y_train, y_test = train_test_split(data,y,test_size=0.3)\n",
    "    \n",
    "    data = np.concatenate((x_train, y_train), axis=1)\n",
    "    \n",
    "    #Randomly shuffle the data\n",
    "    np.random.shuffle(data)\n",
    "    \n",
    "    #Split data set into k parts\n",
    "    splitData = np.array_split(data,k)\n",
    "    \n",
    "    for i in range(0,k):\n",
    "        train = np.zeros((0,3)) #reset train set for each kth run\n",
    "        for j in range(0,k):\n",
    "            if j==i:\n",
    "                test = splitData[j]\n",
    "                continue\n",
    "            train = np.concatenate((train, splitData[j]), axis=0)\n",
    "        \n",
    "        X_design = createDesignMatrix(train[:,0], train[:,1])\n",
    "    \n",
    "\n",
    "def ridgeRegression(X_train,X_test,y_train,n):   \n",
    "    N = np.size(X_train,1)\n",
    "    I = np.eye(N)\n",
    "    \n",
    "    # Decide which value of lambda to use\n",
    "    nlambdas = 4\n",
    "    MSEPredict = np.zeros(nlambdas)\n",
    "    MSETrain = np.zeros(nlambdas)\n",
    "    MSEPredictSKL = np.zeros(nlambdas)\n",
    "    lambdas = np.logspace(-4,1, nlambdas)\n",
    "    for i in range(nlambdas):\n",
    "        lmb = lambdas[i]\n",
    "        # Add Ridge\n",
    "        clf_ridge = skl.Ridge(alpha=lmb).fit(X_train,y_train)\n",
    "        beta_ridge = np.linalg.inv(X_train.T @ X_train + lmb*I) @ X_train.T @ y_train\n",
    "        # Make predictions\n",
    "        y_tilde = X_train @ beta_ridge\n",
    "        y_predict = X_test @ beta_ridge\n",
    "        y_ridgeSKL = clf_ridge.predict(X_test)\n",
    "        MSEPredict[i] = MSE(y_test, y_predict)\n",
    "        MSETrain[i] = MSE(y_train, y_tilde)\n",
    "        MSEPredictSKL[i] = MSE(y_test, y_ridgeSKL)\n",
    "    plt.figure()\n",
    "    plt.plot(np.log10(lambdas), MSETrain, label = 'MSE Ridge train')\n",
    "    plt.plot(np.log10(lambdas), MSEPredict, 'r--', label = 'MSE Ridge Test')\n",
    "    plt.plot(np.log10(lambdas), MSEPredictSKL, 'g--', label = 'MSE Ridge sickit-learn Test')\n",
    "    plt.xlabel('log10(lambda)')\n",
    "    plt.ylabel('MSE')\n",
    "    plt.legend()\n",
    "    plt.title(f'Lambda = {nlambdas}')\n",
    "\n",
    "def lassoRegression():\n",
    "    # Use the Scikit-learn functionality\n",
    "    pass\n",
    "\n",
    "\n",
    "    \n",
    "    \n"
   ]
  },
  {
   "cell_type": "markdown",
   "metadata": {},
   "source": [
    "a) OLS"
   ]
  },
  {
   "cell_type": "code",
   "execution_count": 80,
   "metadata": {},
   "outputs": [
    {
     "name": "stdout",
     "output_type": "stream",
     "text": [
      "The R2 value for a polynomial of order 4, OLS test: 0.769085022668978\n",
      "The MSE value for a polynomial of order 4, OLS test: 0.019387758035980814\n",
      "\n",
      "The R2 value for a polynomial of order 4, OLS train: 0.9013963399214153\n",
      "The MSE value for a polynomial of order 4, OLS train: 0.009327441276810467\n",
      "(15,)\n",
      "(15,)\n",
      "\n",
      "The 90% confidence interval for beta_2 is -0.9417071758201156 ⟷ 1.724642297179966\n"
     ]
    },
    {
     "data": {
      "text/plain": [
       "<matplotlib.legend.Legend at 0x7f5c508e27d0>"
      ]
     },
     "execution_count": 80,
     "metadata": {},
     "output_type": "execute_result"
    },
    {
     "data": {
      "image/png": "[encoded data removed]",
      "text/plain": [
       "<Figure size 432x288 with 1 Axes>"
      ]
     },
     "metadata": {},
     "output_type": "display_data"
    },
    {
     "data": {
      "image/png": "[encoded data removed]",
      "text/plain": [
       "<Figure size 432x288 with 1 Axes>"
      ]
     },
     "metadata": {},
     "output_type": "display_data"
    }
   ],
   "source": [
    "# np.random.seed(2020)\n",
    "\n",
    "sig2 = 0.1 # noise variance\n",
    "degree = 4 # polynomial degree\n",
    "n = 10 # number of data points for each feature\n",
    "x1, x2, y = createDataPoints(n, sig2)\n",
    "X = createDesignMatrix(x1,x2,degree)\n",
    "\n",
    "X_train, X_test, y_train, y_test = train_test_split(X,y,test_size=0.3)\n",
    "X_train, X_test = Scale(X_train, X_test)\n",
    "\n",
    "beta = np.linalg.pinv(X_train.T.dot(X_train)).dot(X_train.T).dot(y_train)\n",
    "y_tilde = (X_train @ beta)\n",
    "y_pred = (X_test @ beta)\n",
    "\n",
    "ax0 = plt.figure(0)\n",
    "# plt.plot(X_train[:, 1], y_tilde, label=\"y_tilde\")\n",
    "plt.plot(y_tilde[:10], label=\"y_tilde\", color=\"red\")\n",
    "plt.scatter(np.arange(10), y_train[:10], label=\"y_train\", color=\"red\")\n",
    "\n",
    "plt.plot(y_pred[:10], label=\"y_pred\", color=\"green\")\n",
    "plt.scatter(np.arange(10), y_test[:10], label=\"y_test\", color='green')\n",
    "ax0.legend(facecolor='white', framealpha=1, loc='upper right', bbox_to_anchor=(1.1, 0.9))\n",
    "\n",
    "\n",
    "print(f\"The R2 value for a polynomial of order {degree}, OLS test: {R2(y_test, y_pred)}\")\n",
    "print(f\"The MSE value for a polynomial of order {degree}, OLS test: {MSE(y_test, y_pred)}\")\n",
    "print(f\"\\nThe R2 value for a polynomial of order {degree}, OLS train: {R2(y_train, y_tilde)}\")\n",
    "print(f\"The MSE value for a polynomial of order {degree}, OLS train: {MSE(y_train, y_tilde)}\")\n",
    "\n",
    "# Calculate the confidence interval of the 'p' parameters beta\n",
    "errorBeta = CIBeta(X_train, beta)\n",
    "\n",
    "# Print an example of a confidence interval\n",
    "print(f\"\\nThe 90% confidence interval for beta_2 is {beta[2]-errorBeta[2]} ⟷ {beta[2]+errorBeta[2]}\")\n",
    "\n",
    "# Plot the Confidence Intervals for the betas\n",
    "ax1 = plt.figure(1)\n",
    "plt.errorbar(np.arange(len(beta)), beta, errorBeta, fmt='cx', capsize=4, label=r\"$\\beta_j \\pm 1.645 \\sigma$\")\n",
    "plt.xlabel(\"index $j$\")\n",
    "plt.ylabel(r\"$\\beta_j $\")\n",
    "ax1.legend(facecolor='white', framealpha=1, loc='upper right', bbox_to_anchor=(0.9, 0.9))\n",
    "\n",
    "# fig3 = plt.figure(2)\n",
    "# plt.scatter(X_train[:, 3], y_train)"
   ]
  },
  {
   "cell_type": "markdown",
   "metadata": {},
   "source": [
    "b)"
   ]
  },
  {
   "cell_type": "code",
   "execution_count": 400,
   "metadata": {
    "scrolled": true
   },
   "outputs": [
    {
     "data": {
      "image/png": "[encoded data removed]",
      "text/plain": [
       "<Figure size 432x288 with 1 Axes>"
      ]
     },
     "metadata": {
      "needs_background": "light"
     },
     "output_type": "display_data"
    }
   ],
   "source": [
    "# np.random.seed(20)\n",
    "# print(np.random.get_state()[1][0])\n",
    "\n",
    "sig2 = 0#.001 # noise variance\n",
    "n = 10 # number of data points for each feature\n",
    "n_boostraps = 100 # number of bootstraps \n",
    "maxdegree = 8 # maximum polynomial degree\n",
    "\n",
    "for n in range(10,11):\n",
    "#     print(n)\n",
    "    # Make data set.\n",
    "    x1, x2, y = createDataPoints(n, sig2)\n",
    "    x = np.swapaxes(np.stack((x1.ravel(),x2.ravel())),0,1)\n",
    "#     print(x.shape)\n",
    "\n",
    "    # Define empty arrays\n",
    "    error = np.zeros(maxdegree)\n",
    "    bias = np.zeros(maxdegree)\n",
    "    variance = np.zeros(maxdegree)\n",
    "    polydegree = np.zeros(maxdegree)\n",
    "\n",
    "\n",
    "    for degree in range(maxdegree):\n",
    "#         print(\"\\n\", degree, \"\\n\")\n",
    "        X = createDesignMatrix(x[:,[0]],x[:,[1]],degree)  \n",
    "        \n",
    "        # Split and scale the design data\n",
    "        X_train, X_test, y_train, y_test = train_test_split(X,y,test_size=0.3)\n",
    "        y_train, y_test = y_train[:, np.newaxis], y_test[:, np.newaxis]\n",
    "#         X_test.flags.writeable = False\n",
    "        y_pred = np.empty((y_test.shape[0], n_boostraps))\n",
    "        for i in range(n_boostraps):\n",
    "#             print(i)\n",
    "            x_, y_ = resample(X_train, y_train)\n",
    "#             print(\"X_test before\", X_test[:1, :])\n",
    "\n",
    "            x_, X_test2 = Scale(x_, X_test)\n",
    "#             print(\"X_test after\", X_test2[:1, :])\n",
    "\n",
    "            beta = np.linalg.pinv(x_.T.dot(x_)).dot(x_.T).dot(y_)\n",
    "            y_pred[:, i] = (X_test2 @ beta).squeeze()\n",
    "\n",
    "        polydegree[degree] = degree\n",
    "        error[degree] = np.mean( np.mean((y_test - y_pred)**2, axis=1, keepdims=True) )\n",
    "        bias[degree] = np.mean( (y_test - np.mean(y_pred, axis=1, keepdims=True))**2 )\n",
    "        variance[degree] = np.mean( np.var(y_pred, axis=1, keepdims=True) )\n",
    "#         print(\"Polynomial degree:\", degree)\n",
    "#         print(\"Error:\", error[degree])\n",
    "#         print(\"Bias^2:\", bias[degree])\n",
    "#         print(\"Var:\", variance[degree])\n",
    "#         print('{} >= {} + {} = {}\\n'.format(error[degree], bias[degree], variance[degree], bias[degree]+variance[degree]))\n",
    "#         break\n",
    "    plt.plot(polydegree, error, label=\"Error\")\n",
    "    plt.plot(polydegree, bias, label=\"bias\")\n",
    "    plt.plot(polydegree, variance, label=\"Variance\")\n",
    "    plt.legend()\n",
    "    plt.show()"
   ]
  },
  {
   "cell_type": "markdown",
   "metadata": {},
   "source": [
    "c)"
   ]
  },
  {
   "cell_type": "code",
   "execution_count": 11,
   "metadata": {
    "scrolled": false
   },
   "outputs": [
    {
     "name": "stdout",
     "output_type": "stream",
     "text": [
      "All X data split (10, 10, 45)\n",
      "All y data split (10, 10)\n",
      "Polynomial degree: 8\n",
      "MSE: 4.159754507534628\n"
     ]
    }
   ],
   "source": [
    "np.random.seed(20)\n",
    "\n",
    "sig2 = 1 # noise variance\n",
    "n = 10 # number of data points for each feature\n",
    "k = 10\n",
    "degree = 8\n",
    "\n",
    "x1, x2, y = createDataPoints(n, sig2)\n",
    "x = np.swapaxes(np.stack((x1.ravel(),x2.ravel())),0,1)\n",
    "# y = y.ravel()\n",
    "\n",
    "X = createDesignMatrix(x[:,[0]],x[:,[1]],degree)  \n",
    "p = np.random.permutation(X.shape[0])\n",
    "X = X[p]\n",
    "y = y[p]\n",
    "\n",
    "# y_pred = np.empty((np.int(X.shape[0]/k), k))\n",
    "\n",
    "#Split data set into k parts\n",
    "splitXData = np.array(np.split(X,k))\n",
    "splitYData = np.array(np.split(y,k))\n",
    "print(\"All X data split\", splitXData.shape)\n",
    "print(\"All y data split\", splitYData.shape)\n",
    "\n",
    "MSErrors = np.zeros(k)\n",
    "\n",
    "s0 = splitXData.shape[0]\n",
    "s1 = splitXData.shape[1]\n",
    "\n",
    "for i in range(0,k):\n",
    "    mask = np.ones(k)\n",
    "    mask[i]=0\n",
    "    X_train = splitXData[mask==1].reshape(((s0-1)*s1,-1))\n",
    "    X_test = splitXData[mask==0].squeeze()\n",
    "    X_train, X_test = Scale(X_train, X_test)\n",
    "    print(X)\n",
    "#     print(np.mean(X_train, ax))\n",
    "\n",
    "    y_train = splitYData[mask==1].reshape(((s0-1)*s1,1))\n",
    "    y_test = np.swapaxes(splitYData[mask==0], 0, 1)\n",
    "\n",
    "    beta = np.linalg.pinv(X_train.T.dot(X_train)).dot(X_train.T).dot(y_train)\n",
    "    y_pred = (X_test @ beta)\n",
    "\n",
    "    MSErrors[i] = np.mean((y_test - y_pred)**2, keepdims=True)\n",
    "    \n",
    "MSError = np.mean(MSErrors)\n",
    "\n",
    "print(\"Polynomial degree:\", degree)\n",
    "print(\"MSE:\", MSError)"
   ]
  },
  {
   "cell_type": "markdown",
   "metadata": {},
   "source": [
    "d)"
   ]
  },
  {
   "cell_type": "code",
   "execution_count": 84,
   "metadata": {},
   "outputs": [
    {
     "data": {
      "image/png": "[encoded data removed]",
      "text/plain": [
       "<Figure size 432x288 with 1 Axes>"
      ]
     },
     "metadata": {
      "needs_background": "light"
     },
     "output_type": "display_data"
    }
   ],
   "source": [
    "ridgeRegression(X_train, X_test,z_train,n)"
   ]
  }
 ],
 "metadata": {
  "kernelspec": {
   "display_name": "Python 3",
   "language": "python",
   "name": "python3"
  },
  "language_info": {
   "codemirror_mode": {
    "name": "ipython",
    "version": 3
   },
   "file_extension": ".py",
   "mimetype": "text/x-python",
   "name": "python",
   "nbconvert_exporter": "python",
   "pygments_lexer": "ipython3",
   "version": "3.7.5"
  }
 },
 "nbformat": 4,
 "nbformat_minor": 4
}
