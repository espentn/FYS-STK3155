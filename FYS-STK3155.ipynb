{
 "cells": [
  {
   "cell_type": "code",
   "execution_count": 2,
   "metadata": {},
   "outputs": [],
   "source": [
    "from mpl_toolkits.mplot3d import Axes3D\n",
    "import matplotlib.pyplot as plt\n",
    "from matplotlib import cm\n",
    "from matplotlib.ticker import LinearLocator, FormatStrFormatter\n",
    "import numpy as np\n",
    "from random import random, seed \n",
    "from numba import jit\n",
    "\n",
    "from sklearn import linear_model\n",
    "from sklearn.pipeline import make_pipeline\n",
    "from sklearn.preprocessing import PolynomialFeatures\n",
    "from sklearn.linear_model import LinearRegression, Ridge, Lasso\n",
    "from sklearn.metrics import mean_squared_error, r2_score, mean_squared_log_error, mean_absolute_error\n",
    "from sklearn.model_selection import train_test_split\n",
    "from sklearn.preprocessing import StandardScaler"
   ]
  },
  {
   "cell_type": "code",
   "execution_count": 19,
   "metadata": {},
   "outputs": [],
   "source": [
    "sig2 = 1\n",
    "\n",
    "# Define the Franke Fumction\n",
    "def frankeFunction(x,y,sig2):\n",
    "    noise = np.random.normal(0,var,len(x))\n",
    "    term1 = 0.75*np.exp(-(0.25*(9*x-2)**2) - 0.25*((9*y-2)**2))\n",
    "    term2 = 0.75*np.exp(-((9*x+1)**2)/49.0 - 0.1*(9*y+1))\n",
    "    term3 = 0.5*np.exp(-(9*x-7)**2/4.0 - 0.25*((9*y-3)**2))\n",
    "    term4 = -0.2*np.exp(-(9*x-4)**2 - (9*y-7)**2)\n",
    "    return term1 + term2 + term3 + term4 + noise\n",
    "\n",
    "# Create the data points in mesh grid form\n",
    "def createDataPoints():\n",
    "    x = np.arange(0, 1, 0.1)\n",
    "    y = np.arange(0, 1, 0.1)\n",
    "    x_d, y_d = np.meshgrid(x,y)\n",
    "    z_d = frankeFunction(x_d,y_d,sig2)\n",
    "    return x_d, y_d, z_d\n",
    "\n",
    "# Create the design matrix with all possible combinations\n",
    "@jit\n",
    "def createDesignMatrix(x, y, n):\n",
    "    if len(x.shape) > 1:\n",
    "        x = np.ravel(x)\n",
    "        y = np.ravel(y)\n",
    "\n",
    "    N = len(x)\n",
    "    p = int((n+1)*(n+2)/2)\n",
    "    X = np.ones((N,p))\n",
    "\n",
    "    for i in range(1, n+1):\n",
    "        q = int(i*(i+1)/2)\n",
    "        for j in range(i+1):\n",
    "            X[:,q+j] = (x**(i-j))*(y**j)\n",
    "    return X\n",
    "\n",
    "# Predict the outcome using matrix inversion\n",
    "def predict(X, z_data):\n",
    "    beta = np.linalg.inv(X.T.dot(X)).dot(X.T).dot(z_data)\n",
    "    ztilde = X @ beta\n",
    "    return ztilde, beta\n",
    "\n",
    "# Calculate the mean square error (MSE)\n",
    "def MSE(z_data, z_model):\n",
    "    n = np.size(z_model)\n",
    "    return np.sum((z_data-z_model)**2)/n\n",
    "\n",
    "# Calculate the coefficient of determination (R2)\n",
    "def R2(z_data, z_model):\n",
    "    n = np.size(z_data)\n",
    "    return 1 - np.sum((z_data-z_model)**2)/np.sum((z_data-(np.sum(z_data)/n))**2)\n",
    "\n",
    "#Scale the data and split them for training and testing\n",
    "def splitAndScale(x,z):\n",
    "    X_train, X_test, z_train, z_test = train_test_split(x,z,test_size=0.3)\n",
    "    scaler = StandardScaler()\n",
    "    scaler.fit(X_train)\n",
    "    X_train_scaled = scaler.transform(X_train)\n",
    "    X_test_scaled = scaler.transform(X_test)\n",
    "    return X_train, X_test, z_train, z_test\n",
    "\n",
    "# Calculate the confidence interval of parameters Beta's\n",
    "def CIBeta(X, Beta):\n",
    "    varBeta = np.diagonal(np.linalg.inv(X.T @ X)*sig2)\n",
    "    stdBeta = np.sqrt(varBeta)\n",
    "    CIlow = Beta - 1.645*stdBeta\n",
    "    CIhigh = Beta + 1.645*stdBeta\n",
    "    return CIlow, CIhigh\n",
    "\n",
    "# I cannot get this function to work with X_train\n",
    "def SVDinv(A):\n",
    "    U, s, VT = np.linalg.svd(A)\n",
    "    print(A.shape)\n",
    "    print(U.shape)\n",
    "    print(s.shape)\n",
    "    print(VT.shape)\n",
    "    S = np.diag(s)\n",
    "    UT = np.transpose(U)\n",
    "    V = np.transpose(VT)\n",
    "    invS = np.linalg.inv(S)\n",
    "    #print(np.matmul(V,np.matmul(invD,UT)).shape)\n",
    "    return np.matmul(V,np.matmul(invS,UT))\n",
    "\n",
    "def kfoldCV(x,y,z,k=5):\n",
    "    # The general procedure is as follows:\n",
    "    # 1. Shuffle the dataset randomly.\n",
    "    # 2. Split the dataset into k groups\n",
    "    # 3. For each unique group:\n",
    "    #    1. Take the group as a hold out or test data set\n",
    "    #    2. Take the remaining groups as a training data set\n",
    "    #    3. Fit a model on the training set and evaluate it on the test set\n",
    "    #    4. Retain the evaluation score and discard the model\n",
    "    # 4. Summarize the skill of the model using the sample of model evaluation scores\n",
    "    \n",
    "    #Concatenate the data points\n",
    "    #data = np.concatenate((x,y),axis=0)\n",
    "    \n",
    "    #HOW TO COMBINE X AND Y IN THE RIGHT FORMAT?\n",
    "    #First, split data into test and training set\n",
    "    x_train, x_test, y_train, y_test = train_test_split(data,y,test_size=0.3)\n",
    "    \n",
    "    data = np.concatenate((x_train, y_train), axis=1)\n",
    "    \n",
    "    #Randomly shuffle the data\n",
    "    np.random.shuffle(data)\n",
    "    \n",
    "    #Split data set into k parts\n",
    "    splitData = np.array_split(data,k)\n",
    "    \n",
    "    for i in range(0,k):\n",
    "        train = np.zeros((0,3)) #reset train set for each kth run\n",
    "        for j in range(0,k):\n",
    "            if j==i:\n",
    "                test = splitData[j]\n",
    "                continue\n",
    "            train = np.concatenate((train, splitData[j]), axis=0)\n",
    "        \n",
    "        X_design = createDesignMatrix(train[:,0], train[:,1])\n",
    "    \n",
    "\n",
    "def ridgeRegression(x,y,z,n):\n",
    "    X = createDesignMatrix(x,y,n)\n",
    "    X_train, X_test, z_train, z_test = splitAndScale(X,z)\n",
    "    \n",
    "    I = np.eye(n,n)\n",
    "    \n",
    "    # Decide which value of lambda to use\n",
    "    nlambdas = n\n",
    "    MSEPredict = np.zeros(nlambdas)\n",
    "    MSETrain = np.zeros(nlambdas)\n",
    "    lambdas = np.logspace(-4,1, nlambdas)\n",
    "    print(I.shape)\n",
    "    print(X_train.shape)\n",
    "    for i in range(nlambdas):\n",
    "        lmb = lambdas[i]\n",
    "        beta_ridge = np.linalg.inv(X_train.T @ X_train + lmb*I) @ X_train.T @ z\n",
    "        z_tilde = X_train @ beta_ridge\n",
    "        z_predict = X_test @ beta_ridge\n",
    "        MSEPredict[i] = MSE(z_test, z_predict)\n",
    "        MSETrain[i] = MSE(z_train, z_tilde)\n",
    "\n",
    "def lassoRegression():\n",
    "    # Use the Scikit-learn functionality\n",
    "    pass\n",
    "\n",
    "\n",
    "    \n",
    "    \n"
   ]
  },
  {
   "cell_type": "markdown",
   "metadata": {},
   "source": [
    "a) OLS"
   ]
  },
  {
   "cell_type": "code",
   "execution_count": 35,
   "metadata": {},
   "outputs": [
    {
     "name": "stdout",
     "output_type": "stream",
     "text": [
      "The R2 value for a polynomial of order 5, OLS test: 0.8663491330467924\n",
      "The MSE value for a polynomial of order 5, OLS test: 0.1289349381866267\n",
      "\n",
      "The R2 value for a polynomial of order 5, OLS train: 0.4404987460097385\n",
      "The MSE value for a polynomial of order 5, OLS train: 0.5352973629841232\n",
      "\n",
      "The 90% confidence interval for beta_0 is -1.2014932976491797 ⟷ 1.834407270192476\n"
     ]
    }
   ],
   "source": [
    "n = 5 # polynomial degree\n",
    "x, y, z = createDataPoints()\n",
    "X = createDesignMatrix(x,y,n)\n",
    "\n",
    "X_train, X_test, z_train, z_test = splitAndScale(X,np.ravel(z))\n",
    "# A = np.transpose(X_train) @ X_train\n",
    "# SVDinvA = SVDinv(A)\n",
    "z_tilde, beta = predict(X_train, z_train)\n",
    "z_predict, _ = predict(X_test, z_test)\n",
    "print(f\"The R2 value for a polynomial of order {n}, OLS test: {R2(z_test, z_predict)}\")\n",
    "print(f\"The MSE value for a polynomial of order {n}, OLS test: {MSE(z_test, z_predict)}\")\n",
    "print(f\"\\nThe R2 value for a polynomial of order {n}, OLS train: {R2(z_train, z_tilde)}\")\n",
    "print(f\"The MSE value for a polynomial of order {n}, OLS train: {MSE(z_train, z_tilde)}\")\n",
    "\n",
    "# Calculate the confidence interval of the 'p' parameters beta\n",
    "CIlow, CIhigh = CIBeta(X_train, beta)\n",
    "\n",
    "# Print an example of a confidence interval\n",
    "print(f\"\\nThe 90% confidence interval for beta_0 is {CIlow[0]} ⟷ {CIhigh[0]}\")"
   ]
  },
  {
   "cell_type": "code",
   "execution_count": 26,
   "metadata": {},
   "outputs": [
    {
     "name": "stdout",
     "output_type": "stream",
     "text": [
      "1.192152015127638\n",
      "-0.27651343339712087\n",
      "2.6608174636523967\n"
     ]
    }
   ],
   "source": [
    "a, b = CIBeta(X_train, beta)\n",
    "print(beta[0])\n",
    "print(a[0])\n",
    "print(b[0])"
   ]
  },
  {
   "cell_type": "markdown",
   "metadata": {},
   "source": [
    "b)"
   ]
  },
  {
   "cell_type": "code",
   "execution_count": 168,
   "metadata": {},
   "outputs": [
    {
     "name": "stdout",
     "output_type": "stream",
     "text": [
      "(5, 5)\n",
      "(70, 21)\n"
     ]
    },
    {
     "ename": "ValueError",
     "evalue": "operands could not be broadcast together with shapes (21,21) (5,5) ",
     "output_type": "error",
     "traceback": [
      "\u001b[0;31m---------------------------------------------------------------------------\u001b[0m",
      "\u001b[0;31mValueError\u001b[0m                                Traceback (most recent call last)",
      "\u001b[0;32m<ipython-input-168-7db110dee04c>\u001b[0m in \u001b[0;36m<module>\u001b[0;34m\u001b[0m\n\u001b[0;32m----> 1\u001b[0;31m \u001b[0mridgeRegression\u001b[0m\u001b[0;34m(\u001b[0m\u001b[0mx_d\u001b[0m\u001b[0;34m,\u001b[0m\u001b[0my_d\u001b[0m\u001b[0;34m,\u001b[0m\u001b[0mz_d\u001b[0m\u001b[0;34m,\u001b[0m \u001b[0mn\u001b[0m\u001b[0;34m)\u001b[0m\u001b[0;34m\u001b[0m\u001b[0;34m\u001b[0m\u001b[0m\n\u001b[0m",
      "\u001b[0;32m<ipython-input-167-8022b1cbf898>\u001b[0m in \u001b[0;36mridgeRegression\u001b[0;34m(x, y, z, n)\u001b[0m\n\u001b[1;32m    124\u001b[0m     \u001b[0;32mfor\u001b[0m \u001b[0mi\u001b[0m \u001b[0;32min\u001b[0m \u001b[0mrange\u001b[0m\u001b[0;34m(\u001b[0m\u001b[0mnlambdas\u001b[0m\u001b[0;34m)\u001b[0m\u001b[0;34m:\u001b[0m\u001b[0;34m\u001b[0m\u001b[0;34m\u001b[0m\u001b[0m\n\u001b[1;32m    125\u001b[0m         \u001b[0mlmb\u001b[0m \u001b[0;34m=\u001b[0m \u001b[0mlambdas\u001b[0m\u001b[0;34m[\u001b[0m\u001b[0mi\u001b[0m\u001b[0;34m]\u001b[0m\u001b[0;34m\u001b[0m\u001b[0;34m\u001b[0m\u001b[0m\n\u001b[0;32m--> 126\u001b[0;31m         \u001b[0mbeta_ridge\u001b[0m \u001b[0;34m=\u001b[0m \u001b[0mnp\u001b[0m\u001b[0;34m.\u001b[0m\u001b[0mlinalg\u001b[0m\u001b[0;34m.\u001b[0m\u001b[0minv\u001b[0m\u001b[0;34m(\u001b[0m\u001b[0mX_train\u001b[0m\u001b[0;34m.\u001b[0m\u001b[0mT\u001b[0m \u001b[0;34m@\u001b[0m \u001b[0mX_train\u001b[0m \u001b[0;34m+\u001b[0m \u001b[0mlmb\u001b[0m\u001b[0;34m*\u001b[0m\u001b[0mI\u001b[0m\u001b[0;34m)\u001b[0m \u001b[0;34m@\u001b[0m \u001b[0mX_train\u001b[0m\u001b[0;34m.\u001b[0m\u001b[0mT\u001b[0m \u001b[0;34m@\u001b[0m \u001b[0mz\u001b[0m\u001b[0;34m\u001b[0m\u001b[0;34m\u001b[0m\u001b[0m\n\u001b[0m\u001b[1;32m    127\u001b[0m         \u001b[0mz_tilde\u001b[0m \u001b[0;34m=\u001b[0m \u001b[0mX_train\u001b[0m \u001b[0;34m@\u001b[0m \u001b[0mbeta_ridge\u001b[0m\u001b[0;34m\u001b[0m\u001b[0;34m\u001b[0m\u001b[0m\n\u001b[1;32m    128\u001b[0m         \u001b[0mz_predict\u001b[0m \u001b[0;34m=\u001b[0m \u001b[0mX_test\u001b[0m \u001b[0;34m@\u001b[0m \u001b[0mbeta_ridge\u001b[0m\u001b[0;34m\u001b[0m\u001b[0;34m\u001b[0m\u001b[0m\n",
      "\u001b[0;31mValueError\u001b[0m: operands could not be broadcast together with shapes (21,21) (5,5) "
     ]
    }
   ],
   "source": [
    "ridgeRegression(x_d,y_d,z_d, n)"
   ]
  },
  {
   "cell_type": "code",
   "execution_count": 166,
   "metadata": {},
   "outputs": [
    {
     "data": {
      "text/plain": [
       "(20,)"
      ]
     },
     "execution_count": 166,
     "metadata": {},
     "output_type": "execute_result"
    }
   ],
   "source": [
    "np.logspace(-4, 1, 20).shape"
   ]
  },
  {
   "cell_type": "code",
   "execution_count": null,
   "metadata": {},
   "outputs": [],
   "source": []
  }
 ],
 "metadata": {
  "kernelspec": {
   "display_name": "Python 3",
   "language": "python",
   "name": "python3"
  },
  "language_info": {
   "codemirror_mode": {
    "name": "ipython",
    "version": 3
   },
   "file_extension": ".py",
   "mimetype": "text/x-python",
   "name": "python",
   "nbconvert_exporter": "python",
   "pygments_lexer": "ipython3",
   "version": "3.7.5"
  }
 },
 "nbformat": 4,
 "nbformat_minor": 4
}
