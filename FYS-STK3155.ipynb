{
 "cells": [
  {
   "cell_type": "code",
   "execution_count": 13,
   "metadata": {},
   "outputs": [],
   "source": [
    "from mpl_toolkits.mplot3d import Axes3D\n",
    "import matplotlib.pyplot as plt\n",
    "from matplotlib import cm\n",
    "from matplotlib.ticker import LinearLocator, FormatStrFormatter\n",
    "import numpy as np\n",
    "from random import random, seed \n",
    "from numba import jit\n",
    "\n",
    "from sklearn import linear_model\n",
    "from sklearn.pipeline import make_pipeline\n",
    "from sklearn.preprocessing import PolynomialFeatures\n",
    "from sklearn.linear_model import LinearRegression\n",
    "from sklearn.metrics import mean_squared_error, r2_score, mean_squared_log_error, mean_absolute_error\n",
    "from sklearn.model_selection import train_test_split\n",
    "from sklearn.preprocessing import StandardScaler"
   ]
  },
  {
   "cell_type": "code",
   "execution_count": 40,
   "metadata": {},
   "outputs": [],
   "source": [
    "def frankeFunction(x,y):\n",
    "    #noise = np.random.normal(0.5,1,len(x))\n",
    "    term1 = 0.75*np.exp(-(0.25*(9*x-2)**2) - 0.25*((9*y-2)**2))\n",
    "    term2 = 0.75*np.exp(-((9*x+1)**2)/49.0 - 0.1*(9*y+1))\n",
    "    term3 = 0.5*np.exp(-(9*x-7)**2/4.0 - 0.25*((9*y-3)**2))\n",
    "    term4 = -0.2*np.exp(-(9*x-4)**2 - (9*y-7)**2)\n",
    "    return term1 + term2 + term3 + term4 #+ noise\n",
    "\n",
    "def createDataPoints():\n",
    "    x = np.arange(0, 1, 0.1)\n",
    "    y = np.arange(0, 1, 0.1)\n",
    "    x_d, y_d = np.meshgrid(x,y)\n",
    "    z_d = frankeFunction(x_d,y_d)\n",
    "    return x_d, y_d, z_d\n",
    "\n",
    "def convertDataPoints(x,y,z):\n",
    "    x_d = np.ravel(x)\n",
    "    y_d = np.ravel(y)\n",
    "    z_d = np.ravel(z)\n",
    "    return x_d, y_d, z_d\n",
    "\n",
    "@jit\n",
    "def createDesignMatrix(x, y, n):\n",
    "#    if len(x_d.shape) > 1:\n",
    "#        x = np.ravel(x_d)\n",
    "#        y = np.ravel(y_d)\n",
    "\n",
    "    N = len(x)\n",
    "    p = int((n+1)*(n+2)/2)\n",
    "    X = np.ones((N,p))\n",
    "\n",
    "    for i in range(1, n+1):\n",
    "        q = int(i*(i+1)/2)\n",
    "        for j in range(i+1):\n",
    "            X[:,q+j] = (x**(i-j))*(y**j)\n",
    "    return X\n",
    "\n",
    "def predict(X, z_data):\n",
    "    beta = np.linalg.inv(X.T.dot(X)).dot(X.T).dot(z_data)\n",
    "    ztilde = X @ beta\n",
    "    return ztilde\n",
    "\n",
    "def MSE(z_data, z_model):\n",
    "    n = np.size(z_model)\n",
    "    return np.sum((z_data-z_model)**2)/n\n",
    "\n",
    "def R2(z_data, z_model):\n",
    "    n = np.size(z_data)\n",
    "    return 1 - np.sum((z_data-z_model)**2)/np.sum((z_data-(np.sum(z_data)/n))**2)\n",
    "\n",
    "def splitData(x,z):\n",
    "    X_train, X_test, z_train, z_test = train_test_split(x,z,test_size=0.3)\n",
    "    return X_train, X_test, z_train, z_test\n",
    "\n",
    "#This function returns a singular matrix when the datas are scaled\n",
    "def splitAndScale(x,z):\n",
    "    X_train, X_test, z_train, z_test = train_test_split(x,z,test_size=0.3)\n",
    "    #scaler = StandardScaler()\n",
    "    #scaler.fit(X_train)\n",
    "    #X_train_scaled = scaler.transform(X_train)\n",
    "    #X_test_scaled = scaler.transform(X_test)\n",
    "    return X_train, X_test, z_train, z_test\n",
    "\n",
    "# I cannot get this function to work with X_train\n",
    "def SVDinv(A):\n",
    "    U, s, VT = np.linalg.svd(A)\n",
    "    print(A.shape)\n",
    "    print(U.shape)\n",
    "    print(s.shape)\n",
    "    print(VT.shape)\n",
    "    D = np.zeros((len(U),len(VT)))\n",
    "    for i in range(0,len(VT)):\n",
    "        D[i,i] = s[i]\n",
    "    UT = np.transpose(U)\n",
    "    V = np.transpose(VT)\n",
    "    invD = np.linalg.pinv(D)\n",
    "    #print(np.matmul(V,np.matmul(invD,UT)).shape)\n",
    "    return np.matmul(V,np.matmul(invD,UT))\n",
    "\n",
    "def kfoldCV(z,k=5, n):\n",
    "    np.random.seed(300)\n",
    "    N = len(x)\n",
    "    x_rand = np.random.randn(N)\n",
    "    y_rand = np.random.randn(N)\n",
    "    X = createDesignMatrix(x_rand, y_rand, n)\n",
    "\n",
    "def ridgeRegression():\n",
    "    pass\n",
    "\n",
    "def lassoRegression():\n",
    "    pass\n",
    "\n",
    "\n",
    "    \n",
    "    \n"
   ]
  },
  {
   "cell_type": "markdown",
   "metadata": {},
   "source": [
    "a)"
   ]
  },
  {
   "cell_type": "code",
   "execution_count": 42,
   "metadata": {},
   "outputs": [
    {
     "name": "stdout",
     "output_type": "stream",
     "text": [
      "The R2 value for a polynomial of order 5: 0.9816182739580832\n",
      "The MSE value for a polynomial of order 5: 0.0016251344422943852\n"
     ]
    }
   ],
   "source": [
    "n = 5\n",
    "x, y, z = createDataPoints()\n",
    "x_d, y_d, z_d = convertDataPoints(x,y,z)\n",
    "X = createDesignMatrix(x_d,y_d,n)\n",
    "X_train, X_test, z_train, z_test = splitAndScale(X,z_d)\n",
    "#A = np.transpose(X_train) @ X_train\n",
    "#X_new = SVDinv(A)\n",
    "z_tilde = predict(X_train, z_train)\n",
    "print(f\"The R2 value for a polynomial of order {n}: {R2(z_train, z_tilde)}\")\n",
    "print(f\"The MSE value for a polynomial of order {n}: {MSE(z_train, z_tilde)}\")"
   ]
  },
  {
   "cell_type": "markdown",
   "metadata": {},
   "source": [
    "b)"
   ]
  },
  {
   "cell_type": "code",
   "execution_count": null,
   "metadata": {},
   "outputs": [],
   "source": []
  },
  {
   "cell_type": "code",
   "execution_count": null,
   "metadata": {},
   "outputs": [],
   "source": []
  },
  {
   "cell_type": "code",
   "execution_count": null,
   "metadata": {},
   "outputs": [],
   "source": []
  }
 ],
 "metadata": {
  "kernelspec": {
   "display_name": "Python 3",
   "language": "python",
   "name": "python3"
  },
  "language_info": {
   "codemirror_mode": {
    "name": "ipython",
    "version": 3
   },
   "file_extension": ".py",
   "mimetype": "text/x-python",
   "name": "python",
   "nbconvert_exporter": "python",
   "pygments_lexer": "ipython3",
   "version": "3.7.6"
  }
 },
 "nbformat": 4,
 "nbformat_minor": 4
}
