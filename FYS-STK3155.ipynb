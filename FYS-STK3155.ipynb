{
 "cells": [
  {
   "cell_type": "code",
   "execution_count": 96,
   "metadata": {},
   "outputs": [],
   "source": [
    "from mpl_toolkits.mplot3d import Axes3D\n",
    "import matplotlib.pyplot as plt\n",
    "from matplotlib import cm\n",
    "from matplotlib.ticker import LinearLocator, FormatStrFormatter\n",
    "import numpy as np\n",
    "from random import random, seed \n",
    "from numba import jit\n",
    "\n",
    "from sklearn import linear_model\n",
    "from sklearn.pipeline import make_pipeline\n",
    "from sklearn.preprocessing import PolynomialFeatures\n",
    "from sklearn.linear_model import LinearRegression\n",
    "from sklearn.metrics import mean_squared_error, r2_score, mean_squared_log_error, mean_absolute_error\n",
    "from sklearn.model_selection import train_test_split"
   ]
  },
  {
   "cell_type": "code",
   "execution_count": 101,
   "metadata": {},
   "outputs": [],
   "source": [
    "x = np.arange(0, 1, 0.07)\n",
    "y = np.arange(0, 1, 0.07)\n"
   ]
  },
  {
   "cell_type": "code",
   "execution_count": 102,
   "metadata": {},
   "outputs": [],
   "source": [
    "def createDataPoints(x,y):\n",
    "    x_d, y_d = np.meshgrid(x,y)\n",
    "    z_d = frankeFunction(x_d, y_d)\n",
    "    return x_d, y_d, x_d"
   ]
  },
  {
   "cell_type": "code",
   "execution_count": 103,
   "metadata": {},
   "outputs": [],
   "source": [
    "def frankeFunction(x,y):\n",
    "    #noise = np.random.normal(0.5,1,len(x))\n",
    "    term1 = 0.75*np.exp(-(0.25*(9*x-2)**2) - 0.25*((9*y-2)**2))\n",
    "    term2 = 0.75*np.exp(-((9*x+1)**2)/49.0 - 0.1*(9*y+1))\n",
    "    term3 = 0.5*np.exp(-(9*x-7)**2/4.0 - 0.25*((9*y-3)**2))\n",
    "    term4 = -0.2*np.exp(-(9*x-4)**2 - (9*y-7)**2)\n",
    "    return term1 + term2 + term3 + term4 #+ noise\n",
    "\n",
    "def createDataPoints(x,y):\n",
    "    x_d, y_d = np.meshgrid(x,y)\n",
    "    z_d = frankeFunction(x_d,y_d)\n",
    "    return x_d, y_d, z_d\n",
    "\n",
    "def convertDataPoints(x,y,z):\n",
    "    x_d = np.ravel(x)\n",
    "    y_d = np.ravel(y)\n",
    "    z_d = np.ravel(z)\n",
    "    return x_d, y_d, z_d\n",
    "\n",
    "@jit\n",
    "def create_design_matrix(x, y, n):\n",
    "#    if len(x_d.shape) > 1:\n",
    "#        x = np.ravel(x_d)\n",
    "#        y = np.ravel(y_d)\n",
    "\n",
    "    N = len(x)\n",
    "    p = int((n+1)*(n+2)/2)\n",
    "    X = np.ones((N,p))\n",
    "\n",
    "    for i in range(1, n+1):\n",
    "        q = int(i*(i+1)/2)\n",
    "        for j in range(i+1):\n",
    "            X[:,q+j] = (x**(i-j))*(y**j)\n",
    "    return X\n",
    "\n",
    "def fitBeta(X, z_data):\n",
    "    beta = np.linalg.inv(X.T.dot(X)).dot(X.T).dot(z_data)\n",
    "    return beta.T\n",
    "\n",
    "def MSE(z_data, z_model):\n",
    "    n = np.size(z_model)\n",
    "    return np.sum((z_data-z_model)**2)/n\n",
    "\n",
    "def R2(z_data, z_model):\n",
    "    n = np.size(z_data)\n",
    "    return 1 - np.sum((z_data-z_model)**2)/np.sum((z_data-(np.sum(z_data)/n))**2)\n",
    "\n",
    "def trainData(x,z):\n",
    "    X_train, X_test, z_train, z_test = train_test_split(x,z,test_size=0.3)\n",
    "    Beta = np.linalg.inv(X_train.T.dot(X_train)).dot(X_train.T).dot(z_train)\n",
    "    ztilde = X_train @ Beta\n",
    "    return ztilde\n",
    "    \n"
   ]
  },
  {
   "cell_type": "code",
   "execution_count": 104,
   "metadata": {},
   "outputs": [],
   "source": [
    "x, y, z = createDataPoints(x,y)\n",
    "x_d, y_d, z_d = convertDataPoints(x,y,z)"
   ]
  },
  {
   "cell_type": "code",
   "execution_count": 105,
   "metadata": {},
   "outputs": [],
   "source": [
    "X = create_design_matrix(x_d,y_d,3)"
   ]
  },
  {
   "cell_type": "code",
   "execution_count": 106,
   "metadata": {},
   "outputs": [],
   "source": [
    "beta = fitBeta(X,z_d)"
   ]
  },
  {
   "cell_type": "code",
   "execution_count": 107,
   "metadata": {},
   "outputs": [
    {
     "data": {
      "text/plain": [
       "array([ 0.89311875, -0.04010161,  1.39020068, -2.10518019,  1.26897194,\n",
       "       -6.19995987,  1.20387626,  0.62450989, -1.12002714,  4.27417406])"
      ]
     },
     "execution_count": 107,
     "metadata": {},
     "output_type": "execute_result"
    }
   ],
   "source": [
    "beta"
   ]
  },
  {
   "cell_type": "code",
   "execution_count": 108,
   "metadata": {},
   "outputs": [],
   "source": [
    "z_tilde = trainData(X,z_d)"
   ]
  },
  {
   "cell_type": "code",
   "execution_count": 110,
   "metadata": {},
   "outputs": [
    {
     "data": {
      "text/plain": [
       "array([ 0.73691305,  0.01836573,  0.12984096,  0.08250559,  0.34768136,\n",
       "        0.03739574,  0.96357307,  0.85978497,  0.1890093 ,  0.19718881,\n",
       "        0.48325123,  0.17362676,  0.46067406,  0.93846512,  0.42105139,\n",
       "        0.15219943,  0.34289176,  0.60440647,  0.90796601,  0.2177614 ,\n",
       "        0.71413234,  0.78600495,  0.25328577,  0.19985037,  0.4227311 ,\n",
       "        0.18939124,  0.759885  ,  0.27797901,  0.40329737,  0.59137244,\n",
       "        0.07288484,  0.15979685,  0.27825085,  0.3851131 ,  0.318169  ,\n",
       "        0.26080452,  0.50398492,  0.15491801,  0.41097331,  0.63267787,\n",
       "        0.67545386,  0.29461419,  0.19513508,  0.12470588,  0.11039798,\n",
       "        0.38844548,  0.25917688,  0.10381253,  0.31501267,  0.25579937,\n",
       "        0.32426168,  0.62459171,  0.94155829,  0.24918517,  0.36221815,\n",
       "        0.29599212,  0.06639201,  0.49914688,  0.48708592,  0.34618029,\n",
       "        0.30760097,  0.8065518 ,  0.81225206,  0.66737269,  0.3360059 ,\n",
       "        0.35427305,  0.31738934,  0.82073686,  0.86885578,  0.88401804,\n",
       "        0.71979911,  0.30024149,  0.2406072 ,  0.37729253,  0.37950438,\n",
       "        0.04678459,  0.43352419,  0.02286747,  0.38745379,  0.38193226,\n",
       "        0.28744017,  0.22906016,  0.08759928,  0.78768497,  0.86189433,\n",
       "        0.70282101,  0.21915962,  0.83151903,  0.03276274,  0.42353527,\n",
       "        0.29387421,  0.48356464,  0.50943641,  0.30024145,  0.23131954,\n",
       "        0.56533048,  0.33684997,  0.32205595,  0.38413843,  0.64667989,\n",
       "        0.01634371,  0.93410215,  0.76796789,  0.52885137,  0.55482405,\n",
       "        0.14606099,  0.47485056,  0.03799024,  0.06949788,  0.09998816,\n",
       "        0.07048598,  0.77179615,  0.59232371,  0.62811922,  0.24970669,\n",
       "        0.5486471 , -0.0442736 ,  0.58465975,  0.83272775,  0.09483132,\n",
       "        0.58978673,  0.07683013,  0.39974793,  0.23872686,  0.00846746,\n",
       "        0.23423327,  0.94807073,  0.21396896,  0.46059521,  0.25750576,\n",
       "        0.87394303,  0.2566173 ,  0.62728956,  0.79002101,  0.33315563,\n",
       "        0.18448002,  0.26549459,  0.39778506,  0.38896928,  0.96431851,\n",
       "        0.39598412,  0.28816701,  0.23458961,  0.14939258,  0.09490559,\n",
       "        0.57309106,  0.91716661,  0.70856156,  0.23076035,  0.36190025,\n",
       "        0.04251311,  0.53337461,  0.52075791,  0.20219149,  0.94225002,\n",
       "        0.8849391 ,  0.47345666])"
      ]
     },
     "execution_count": 110,
     "metadata": {},
     "output_type": "execute_result"
    }
   ],
   "source": [
    "z_tilde"
   ]
  },
  {
   "cell_type": "code",
   "execution_count": 111,
   "metadata": {},
   "outputs": [
    {
     "ename": "ValueError",
     "evalue": "operands could not be broadcast together with shapes (225,) (157,) ",
     "output_type": "error",
     "traceback": [
      "\u001b[1;31m---------------------------------------------------------------------------\u001b[0m",
      "\u001b[1;31mValueError\u001b[0m                                Traceback (most recent call last)",
      "\u001b[1;32m<ipython-input-111-c997e524ece8>\u001b[0m in \u001b[0;36m<module>\u001b[1;34m\u001b[0m\n\u001b[1;32m----> 1\u001b[1;33m \u001b[0mMSE\u001b[0m\u001b[1;33m(\u001b[0m\u001b[0mz_d\u001b[0m\u001b[1;33m,\u001b[0m\u001b[0mz_tilde\u001b[0m\u001b[1;33m)\u001b[0m\u001b[1;33m\u001b[0m\u001b[1;33m\u001b[0m\u001b[0m\n\u001b[0m",
      "\u001b[1;32m<ipython-input-103-c2eff71ff432>\u001b[0m in \u001b[0;36mMSE\u001b[1;34m(z_data, z_model)\u001b[0m\n\u001b[0;32m     40\u001b[0m \u001b[1;32mdef\u001b[0m \u001b[0mMSE\u001b[0m\u001b[1;33m(\u001b[0m\u001b[0mz_data\u001b[0m\u001b[1;33m,\u001b[0m \u001b[0mz_model\u001b[0m\u001b[1;33m)\u001b[0m\u001b[1;33m:\u001b[0m\u001b[1;33m\u001b[0m\u001b[1;33m\u001b[0m\u001b[0m\n\u001b[0;32m     41\u001b[0m     \u001b[0mn\u001b[0m \u001b[1;33m=\u001b[0m \u001b[0mnp\u001b[0m\u001b[1;33m.\u001b[0m\u001b[0msize\u001b[0m\u001b[1;33m(\u001b[0m\u001b[0mz_model\u001b[0m\u001b[1;33m)\u001b[0m\u001b[1;33m\u001b[0m\u001b[1;33m\u001b[0m\u001b[0m\n\u001b[1;32m---> 42\u001b[1;33m     \u001b[1;32mreturn\u001b[0m \u001b[0mnp\u001b[0m\u001b[1;33m.\u001b[0m\u001b[0msum\u001b[0m\u001b[1;33m(\u001b[0m\u001b[1;33m(\u001b[0m\u001b[0mz_data\u001b[0m\u001b[1;33m-\u001b[0m\u001b[0mz_model\u001b[0m\u001b[1;33m)\u001b[0m\u001b[1;33m**\u001b[0m\u001b[1;36m2\u001b[0m\u001b[1;33m)\u001b[0m\u001b[1;33m/\u001b[0m\u001b[0mn\u001b[0m\u001b[1;33m\u001b[0m\u001b[1;33m\u001b[0m\u001b[0m\n\u001b[0m\u001b[0;32m     43\u001b[0m \u001b[1;33m\u001b[0m\u001b[0m\n\u001b[0;32m     44\u001b[0m \u001b[1;32mdef\u001b[0m \u001b[0mR2\u001b[0m\u001b[1;33m(\u001b[0m\u001b[0mz_data\u001b[0m\u001b[1;33m,\u001b[0m \u001b[0mz_model\u001b[0m\u001b[1;33m)\u001b[0m\u001b[1;33m:\u001b[0m\u001b[1;33m\u001b[0m\u001b[1;33m\u001b[0m\u001b[0m\n",
      "\u001b[1;31mValueError\u001b[0m: operands could not be broadcast together with shapes (225,) (157,) "
     ]
    }
   ],
   "source": [
    "MSE(z_d,z_tilde)"
   ]
  },
  {
   "cell_type": "code",
   "execution_count": 116,
   "metadata": {},
   "outputs": [
    {
     "data": {
      "text/plain": [
       "157"
      ]
     },
     "execution_count": 116,
     "metadata": {},
     "output_type": "execute_result"
    }
   ],
   "source": [
    "len(z_tilde)"
   ]
  },
  {
   "cell_type": "code",
   "execution_count": null,
   "metadata": {},
   "outputs": [],
   "source": []
  },
  {
   "cell_type": "code",
   "execution_count": null,
   "metadata": {},
   "outputs": [],
   "source": []
  },
  {
   "cell_type": "code",
   "execution_count": null,
   "metadata": {},
   "outputs": [],
   "source": []
  },
  {
   "cell_type": "code",
   "execution_count": null,
   "metadata": {},
   "outputs": [],
   "source": []
  }
 ],
 "metadata": {
  "kernelspec": {
   "display_name": "Python 3",
   "language": "python",
   "name": "python3"
  },
  "language_info": {
   "codemirror_mode": {
    "name": "ipython",
    "version": 3
   },
   "file_extension": ".py",
   "mimetype": "text/x-python",
   "name": "python",
   "nbconvert_exporter": "python",
   "pygments_lexer": "ipython3",
   "version": "3.7.6"
  }
 },
 "nbformat": 4,
 "nbformat_minor": 4
}
